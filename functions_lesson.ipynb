{
 "cells": [
  {
   "cell_type": "markdown",
   "id": "41fd2592",
   "metadata": {},
   "source": [
    " 1. Define a function named is_two. It should accept one input and return True if the passed input is either the number or the string 2, False otherwise."
   ]
  },
  {
   "cell_type": "code",
   "execution_count": 11,
   "id": "a357dbe5",
   "metadata": {},
   "outputs": [
    {
     "data": {
      "text/plain": [
       "True"
      ]
     },
     "execution_count": 11,
     "metadata": {},
     "output_type": "execute_result"
    }
   ],
   "source": [
    "def is_two(x):\n",
    "    if x == 2:\n",
    "        return True\n",
    "    elif x == '2':\n",
    "        return True\n",
    "    else: \n",
    "        return False\n",
    "    \n",
    "is_two(2)"
   ]
  },
  {
   "cell_type": "markdown",
   "id": "a7ad494e",
   "metadata": {},
   "source": [
    "2. Define a function named is_vowel. It should return True if the passed string is a vowel, False otherwise."
   ]
  },
  {
   "cell_type": "code",
   "execution_count": 3,
   "id": "0dab1c07",
   "metadata": {},
   "outputs": [
    {
     "data": {
      "text/plain": [
       "True"
      ]
     },
     "execution_count": 3,
     "metadata": {},
     "output_type": "execute_result"
    }
   ],
   "source": [
    "def is_vowel(x):\n",
    "    if x == 'a' or x == 'e' or x == 'i' or x == 'o' or x == 'u':\n",
    "        return True\n",
    "    else:\n",
    "        return False\n",
    "is_vowel('a')"
   ]
  },
  {
   "cell_type": "markdown",
   "id": "1349dd40",
   "metadata": {},
   "source": [
    "3. Define a function named is_consonant. It should return True if the passed string is a consonant, False otherwise. Use your is_vowel function to accomplish this."
   ]
  },
  {
   "cell_type": "code",
   "execution_count": 5,
   "id": "b41cd22e",
   "metadata": {},
   "outputs": [
    {
     "data": {
      "text/plain": [
       "True"
      ]
     },
     "execution_count": 5,
     "metadata": {},
     "output_type": "execute_result"
    }
   ],
   "source": [
    "def is_consonant(x):\n",
    "    if x == 'B'or 'C' or 'D' or 'F' or 'G' or 'H' or 'J' or 'K' or 'L' or 'M' or 'N' or 'P' or 'Q' or 'R' or 'S' or 'T' or 'V' or 'W' or 'X' or 'Y' or 'Z':\n",
    "        return True\n",
    "    else:\n",
    "        return False\n",
    "is_consonant('d')"
   ]
  },
  {
   "cell_type": "markdown",
   "id": "fec346c8",
   "metadata": {},
   "source": [
    "4. Define a function that accepts a string that is a word. The function should capitalize the first letter of the word if the word starts with a consonant."
   ]
  },
  {
   "cell_type": "code",
   "execution_count": 17,
   "id": "d146bb4a",
   "metadata": {},
   "outputs": [
    {
     "name": "stdout",
     "output_type": "stream",
     "text": [
      "D\n"
     ]
    }
   ],
   "source": [
    "def capitalize_consonant(x):\n",
    "    if x == 'B'or 'C' or 'D' or 'F' or 'G' or 'H' or 'J' or 'K' or 'L' or 'M' or 'N' or 'P' or 'Q' or 'R' or 'S' or 'T' or 'V' or 'W' or 'X' or 'Y' or 'Z':\n",
    "        print(x.capitalize())\n",
    "\n",
    "capitalize_consonant('d')\n",
    " "
   ]
  },
  {
   "cell_type": "markdown",
   "id": "0e8c12e9",
   "metadata": {},
   "source": [
    "5. Define a function named calculate_tip. It should accept a tip percentage (a number between 0 and 1) and the bill total, and return the amount to tip."
   ]
  },
  {
   "cell_type": "code",
   "execution_count": 29,
   "id": "96cf7ab1",
   "metadata": {},
   "outputs": [
    {
     "data": {
      "text/plain": [
       "18.0"
      ]
     },
     "execution_count": 29,
     "metadata": {},
     "output_type": "execute_result"
    }
   ],
   "source": [
    "def calculate_tip(x, y):\n",
    "    tip_percentage = x * y \n",
    "    return y - tip_percentage\n",
    "\n",
    "calculate_tip(0.1, 20)\n",
    "    \n",
    "    "
   ]
  },
  {
   "cell_type": "markdown",
   "id": "da33902c",
   "metadata": {},
   "source": [
    "6. Define a function named apply_discount. It should accept a original price, and a discount percentage, and return the price after the discount is applied."
   ]
  },
  {
   "cell_type": "code",
   "execution_count": 20,
   "id": "6d75dd00",
   "metadata": {},
   "outputs": [
    {
     "data": {
      "text/plain": [
       "32.0"
      ]
     },
     "execution_count": 20,
     "metadata": {},
     "output_type": "execute_result"
    }
   ],
   "source": [
    "def apply_discount(x, y):\n",
    "    discount = x * y\n",
    "    return x - discount\n",
    "\n",
    "apply_discount(40, .2)"
   ]
  },
  {
   "cell_type": "markdown",
   "id": "3889ef02",
   "metadata": {},
   "source": [
    "7. Define a function named handle_commas. It should accept a string that is a number that contains commas in it as input, and return a number as output."
   ]
  },
  {
   "cell_type": "code",
   "execution_count": 21,
   "id": "8aa093ee",
   "metadata": {},
   "outputs": [
    {
     "data": {
      "text/plain": [
       "'1000000'"
      ]
     },
     "execution_count": 21,
     "metadata": {},
     "output_type": "execute_result"
    }
   ],
   "source": [
    "def handle_commas(x):\n",
    "    return x.replace(',',\"\")\n",
    "handle_commas('1,000,000')"
   ]
  },
  {
   "cell_type": "markdown",
   "id": "8c40f9ac",
   "metadata": {},
   "source": [
    "8. Define a function named get_letter_grade. It should accept a number and return the letter grade associated with that number (A-F)."
   ]
  },
  {
   "cell_type": "code",
   "execution_count": 28,
   "id": "55b9764d",
   "metadata": {},
   "outputs": [
    {
     "name": "stdout",
     "output_type": "stream",
     "text": [
      "F\n"
     ]
    }
   ],
   "source": [
    "def get_letter_grade(x):\n",
    "    if x >= 88 and x >= 100:\n",
    "        print('A')\n",
    "    elif x >= 80:\n",
    "        print('B')\n",
    "    elif x >= 67:\n",
    "        print('C')\n",
    "    elif x >= 60:\n",
    "        print('D')\n",
    "    else:\n",
    "        print('F')\n",
    "get_letter_grade(40)"
   ]
  },
  {
   "cell_type": "markdown",
   "id": "4110d149",
   "metadata": {},
   "source": [
    "9. Define a function named remove_vowels that accepts a string and returns a string with all the vowels removed."
   ]
  },
  {
   "cell_type": "code",
   "execution_count": 31,
   "id": "28ad4183",
   "metadata": {},
   "outputs": [
    {
     "data": {
      "text/plain": [
       "'bnn'"
      ]
     },
     "execution_count": 31,
     "metadata": {},
     "output_type": "execute_result"
    }
   ],
   "source": [
    "def remove_vowels(x):\n",
    "    return x.replace('a' or 'e' or 'i' or 'o' or 'u', \"\")\n",
    "remove_vowels('banana')"
   ]
  },
  {
   "cell_type": "markdown",
   "id": "91353f62",
   "metadata": {},
   "source": [
    "10. Define a function named normalize_name. It should accept a string and return a valid python identifier, that is:\n",
    "* anything that is not a valid python identifier should be removed\n",
    "* leading and trailing whitespace should be removed\n",
    "* everything should be lowercase\n",
    "* spaces should be replaced with underscores\n",
    "#### for example:\n",
    "  * Name will become name\n",
    "  * First Name will become first_name\n",
    "  * % Completed will become completed"
   ]
  },
  {
   "cell_type": "code",
   "execution_count": 76,
   "id": "ec3cca86",
   "metadata": {},
   "outputs": [
    {
     "data": {
      "text/plain": [
       "'jo_ann'"
      ]
     },
     "execution_count": 76,
     "metadata": {},
     "output_type": "execute_result"
    }
   ],
   "source": [
    "def normalize_name(x):\n",
    "    x = x.replace(\"*\", \"\")\n",
    "    x = x.replace(\"%\", \"\")\n",
    "    x = x.replace(\"0\", \"\")\n",
    "    x = x.replace(\"@\", \"\")\n",
    "    x = x.replace(\"$\", \"\")\n",
    "    x = x.replace(\"^\", \"\")\n",
    "    x = x.replace(\"&\", \"\")\n",
    "    x = x.replace(\"()\", \"\")\n",
    "    x = x.replace(\"0\", \"\")\n",
    "    x = x.replace(\" \", \"_\")\n",
    "    x = x.replace(\"1\", \"\")\n",
    "    x = x.replace(\"2\", \"\")\n",
    "    x = x.replace(\"3\", \"\")\n",
    "    x = x.replace(\"4\", \"\")\n",
    "    x = x.replace(\"5\", \"\")\n",
    "    x = x.replace(\"6\", \"\")\n",
    "    x = x.replace(\"7\", \"\")\n",
    "    x = x.replace(\"8\", \"\")\n",
    "    x = x.replace(\"9\", \"\")\n",
    "    return x\n",
    "normalize_name(\"jo_ann*%019()\")"
   ]
  },
  {
   "cell_type": "markdown",
   "id": "d8df9b1b",
   "metadata": {},
   "source": [
    "Write a function named cumulative_sum that accepts a list of numbers and returns a list that is the cumulative sum of the numbers in the list.\n",
    "def accumu(lis):\n",
    "    total = 0\n",
    "    for x in lis:\n",
    "        total += x\n",
    "        yield total\n",
    "\n",
    "In [4]: list(accumu([4,6,12]))"
   ]
  },
  {
   "cell_type": "code",
   "execution_count": 137,
   "id": "663c9526",
   "metadata": {},
   "outputs": [
    {
     "ename": "TypeError",
     "evalue": "'list' object is not callable",
     "output_type": "error",
     "traceback": [
      "\u001b[0;31m---------------------------------------------------------------------------\u001b[0m",
      "\u001b[0;31mTypeError\u001b[0m                                 Traceback (most recent call last)",
      "\u001b[0;32m<ipython-input-137-2dee6a603025>\u001b[0m in \u001b[0;36m<module>\u001b[0;34m\u001b[0m\n\u001b[1;32m      4\u001b[0m         \u001b[0mtotal\u001b[0m \u001b[0;34m+=\u001b[0m \u001b[0mx\u001b[0m\u001b[0;34m\u001b[0m\u001b[0;34m\u001b[0m\u001b[0m\n\u001b[1;32m      5\u001b[0m         \u001b[0;32myield\u001b[0m \u001b[0mtotal\u001b[0m\u001b[0;34m\u001b[0m\u001b[0;34m\u001b[0m\u001b[0m\n\u001b[0;32m----> 6\u001b[0;31m \u001b[0mlist\u001b[0m\u001b[0;34m(\u001b[0m\u001b[0maccumu\u001b[0m\u001b[0;34m(\u001b[0m\u001b[0;34m[\u001b[0m\u001b[0;36m4\u001b[0m\u001b[0;34m,\u001b[0m\u001b[0;36m6\u001b[0m\u001b[0;34m,\u001b[0m\u001b[0;36m12\u001b[0m\u001b[0;34m]\u001b[0m\u001b[0;34m)\u001b[0m\u001b[0;34m)\u001b[0m\u001b[0;34m\u001b[0m\u001b[0;34m\u001b[0m\u001b[0m\n\u001b[0m\u001b[1;32m      7\u001b[0m \u001b[0;34m\u001b[0m\u001b[0m\n\u001b[1;32m      8\u001b[0m \u001b[0;34m\u001b[0m\u001b[0m\n",
      "\u001b[0;31mTypeError\u001b[0m: 'list' object is not callable"
     ]
    }
   ],
   "source": [
    "def accumu(lis):\n",
    "    total = 0\n",
    "    for x in lis:\n",
    "        total += x\n",
    "        yield total\n",
    "list(accumu([4,6,12])) \n",
    "    \n",
    "        "
   ]
  },
  {
   "cell_type": "code",
   "execution_count": null,
   "id": "6c2011ab",
   "metadata": {},
   "outputs": [],
   "source": []
  }
 ],
 "metadata": {
  "kernelspec": {
   "display_name": "Python 3.8.8 64-bit ('base': conda)",
   "language": "python",
   "name": "python388jvsc74a57bd0b64057e63add2b45b1ffc7eab9b09c8889b419c878e2fdf0d08f837f0fc857a7"
  },
  "language_info": {
   "codemirror_mode": {
    "name": "ipython",
    "version": 3
   },
   "file_extension": ".py",
   "mimetype": "text/x-python",
   "name": "python",
   "nbconvert_exporter": "python",
   "pygments_lexer": "ipython3",
   "version": "3.8.8"
  }
 },
 "nbformat": 4,
 "nbformat_minor": 5
}
