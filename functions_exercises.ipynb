{
 "cells": [
  {
   "cell_type": "markdown",
   "id": "b72e653c",
   "metadata": {},
   "source": [
    " ### 1. Define a function named is_two. It should accept one input and return True if the passed input is either the number or the string 2, False otherwise."
   ]
  },
  {
   "cell_type": "code",
   "execution_count": 11,
   "id": "8b3db38b",
   "metadata": {},
   "outputs": [
    {
     "data": {
      "text/plain": [
       "True"
      ]
     },
     "execution_count": 11,
     "metadata": {},
     "output_type": "execute_result"
    }
   ],
   "source": [
    "# our is_two defines a single parameter, x that is a string or number, and will return a boolean value\n",
    "def is_two(x):\n",
    "# Checks to see if the passed argument is equal to the number 2\n",
    "    if x == 2:\n",
    "# Returns boolean value if the above conditional is true\n",
    "        return True\n",
    "# If the passed argument is not equal to the number 2, checks to see if x is equal to the string '2'\n",
    "    elif x == '2':\n",
    "# Returns boolean value if the above conditional is true\n",
    "        return True\n",
    "# If x is not the number 2 or the string '2', returns boolean value \"False\"\n",
    "    else: \n",
    "# Returns boolean value if both of the above conditionals were false\n",
    "        return False\n",
    "# Our test case:  \n",
    "is_two(2)"
   ]
  },
  {
   "cell_type": "markdown",
   "id": "aec9f1f7",
   "metadata": {},
   "source": [
    "#### Walkthrough:\n",
    "When we input `x` in the test case code, the first conditional it passes through evaluates whether `x` is equal to the number `2`. If `x` is in fact equal to the number `2`, the code returns the boolean value \"True\" as output. If `x` is not equal to the number `2` however, `x` then gets evaluated by the next conditional to evaluate whether `x` is equal to the string `'2'`. If `x` is equal to the string `'2'`, the code returns the boolean value \"True\". If `x` is not equal to the string `'2'`, the code returns the boolean value \"False\"."
   ]
  },
  {
   "cell_type": "markdown",
   "id": "4cbcef25",
   "metadata": {},
   "source": [
    "### 2. Define a function named is_vowel. It should return True if the passed string is a vowel, False otherwise."
   ]
  },
  {
   "cell_type": "code",
   "execution_count": 7,
   "id": "44d5bcce",
   "metadata": {
    "scrolled": true
   },
   "outputs": [
    {
     "data": {
      "text/plain": [
       "True"
      ]
     },
     "execution_count": 7,
     "metadata": {},
     "output_type": "execute_result"
    }
   ],
   "source": [
    "# Our is_vowel defines a single parameter, x that is a string, and will return a boolean value\n",
    "def is_vowel(x):\n",
    "# Checks to see if the passed argument is equal to the any one of these strings, which are the vowels\n",
    "    if x == 'a' or x == 'e' or x == 'i' or x == 'o' or x == 'u':\n",
    "# Returns boolean value if the above conditional is true\n",
    "        return True\n",
    "# If the passed argument was not true, returns the boolean value \"False\"\n",
    "    else:\n",
    "        return False\n",
    "# Our test case:\n",
    "is_vowel('e')"
   ]
  },
  {
   "cell_type": "markdown",
   "id": "50fa2654",
   "metadata": {},
   "source": [
    "#### Walkthorugh:\n",
    "When we input the string argument `x` in the test case code, the first conditional evaluates whether `x` is equal to any one of the string values accepted (vowels). If the argument `x` is equal to a vowel, the code returns the boolean value \"True\". If `x` is not equal to a vowel, the code returns the boolean value \"False\"."
   ]
  },
  {
   "cell_type": "markdown",
   "id": "e9584100",
   "metadata": {},
   "source": [
    "### 3. Define a function named is_consonant. It should return True if the passed string is a consonant, False otherwise. Use your is_vowel function to accomplish this."
   ]
  },
  {
   "cell_type": "code",
   "execution_count": 49,
   "id": "180b93ba",
   "metadata": {},
   "outputs": [
    {
     "data": {
      "text/plain": [
       "True"
      ]
     },
     "execution_count": 49,
     "metadata": {},
     "output_type": "execute_result"
    }
   ],
   "source": [
    "# Our is_consonant function defines a single parameter, x that is a string, and will return a boolean value\n",
    "def is_consonant(x):\n",
    "# Checks to see if the passed argument is equal to any of the string values in the code, returns \"True\"\n",
    "    if x == 'B'or 'C' or 'D' or 'F' or 'G' or 'H' or 'J' or 'K' or 'L' or 'M' or 'N' or 'P' or 'Q' or 'R' or 'S' or 'T' or 'V' or 'W' or 'X' or 'Y' or 'Z':\n",
    "        return True\n",
    "# If the passed argument is not equal to any of the accepted strings, the code returns \"False\"\n",
    "    else:\n",
    "        return False\n",
    "# Our test case:\n",
    "is_consonant('D')"
   ]
  },
  {
   "cell_type": "markdown",
   "id": "1c5f0696",
   "metadata": {},
   "source": [
    "#### Walkthrough:\n",
    "When we input the string argument `x` in the test code, the first conditional evaluates whether `x` is equal to any of the string values (consanants). The `.upper()` function is also used in this conditional to capitalize any `x` input, in order to prevent the code from denying strings that are lowercase. The .upper() function just capitalizes any string input. If the string is equal to any consanant, the code returns the boolean value \"True\". If the passed string `x` does not equal a consant, the code returns the boolean value \"False\"."
   ]
  },
  {
   "cell_type": "markdown",
   "id": "c3eae34c",
   "metadata": {},
   "source": [
    "### 4. Define a function that accepts a string that is a word. The function should capitalize the first letter of the word if the word starts with a consonant."
   ]
  },
  {
   "cell_type": "code",
   "execution_count": 51,
   "id": "c789a99e",
   "metadata": {},
   "outputs": [
    {
     "name": "stdout",
     "output_type": "stream",
     "text": [
      "Codeup\n"
     ]
    }
   ],
   "source": [
    "# Our capitalize_consant function defines a single parameter, x that is a string, and will return the input capitalized when it contains a consanant\n",
    "def capitalize_consonant(x):\n",
    "# If the passed argument is equal to any of the string values in the code, returns the string input capitalized\n",
    "    if x == 'B'or 'C' or 'D' or 'F' or 'G' or 'H' or 'J' or 'K' or 'L' or 'M' or 'N' or 'P' or 'Q' or 'R' or 'S' or 'T' or 'V' or 'W' or 'X' or 'Y' or 'Z':\n",
    "        print(x.capitalize())\n",
    "# Our test case:\n",
    "capitalize_consonant('codeup')\n",
    " "
   ]
  },
  {
   "cell_type": "markdown",
   "id": "73e13010",
   "metadata": {},
   "source": [
    "### 5. Define a function named calculate_tip. It should accept a tip percentage (a number between 0 and 1) and the bill total, and return the amount to tip."
   ]
  },
  {
   "cell_type": "code",
   "execution_count": 13,
   "id": "c3499101",
   "metadata": {},
   "outputs": [
    {
     "data": {
      "text/plain": [
       "18.0"
      ]
     },
     "execution_count": 13,
     "metadata": {},
     "output_type": "execute_result"
    }
   ],
   "source": [
    "def calculate_tip(x, y):\n",
    "    tip_percentage = x * y \n",
    "    return y - tip_percentage\n",
    "# Our test case:\n",
    "calculate_tip(.1, 20)\n",
    "    \n",
    "    "
   ]
  },
  {
   "cell_type": "markdown",
   "id": "fcacc82a",
   "metadata": {},
   "source": [
    "### 6. Define a function named apply_discount. It should accept a original price, and a discount percentage, and return the price after the discount is applied."
   ]
  },
  {
   "cell_type": "code",
   "execution_count": 20,
   "id": "39a02d0e",
   "metadata": {},
   "outputs": [
    {
     "data": {
      "text/plain": [
       "32.0"
      ]
     },
     "execution_count": 20,
     "metadata": {},
     "output_type": "execute_result"
    }
   ],
   "source": [
    "def apply_discount(x, y):\n",
    "    discount = x * y\n",
    "    return x - discount\n",
    "# Our test case:\n",
    "apply_discount(40, .2)"
   ]
  },
  {
   "cell_type": "markdown",
   "id": "c689fa2a",
   "metadata": {},
   "source": [
    "### 7. Define a function named handle_commas. It should accept a string that is a number that contains commas in it as input, and return a number as output."
   ]
  },
  {
   "cell_type": "code",
   "execution_count": 21,
   "id": "690fc12f",
   "metadata": {},
   "outputs": [
    {
     "data": {
      "text/plain": [
       "'1000000'"
      ]
     },
     "execution_count": 21,
     "metadata": {},
     "output_type": "execute_result"
    }
   ],
   "source": [
    "def handle_commas(x):\n",
    "    return x.replace(',',\"\")\n",
    "# Our test case:\n",
    "handle_commas('1,000,000')"
   ]
  },
  {
   "cell_type": "markdown",
   "id": "32d3c120",
   "metadata": {},
   "source": [
    "### 8. Define a function named get_letter_grade. It should accept a number and return the letter grade associated with that number (A-F)."
   ]
  },
  {
   "cell_type": "code",
   "execution_count": 23,
   "id": "59a14fda",
   "metadata": {},
   "outputs": [
    {
     "name": "stdout",
     "output_type": "stream",
     "text": [
      "F\n",
      "D\n",
      "C\n",
      "B\n",
      "A\n"
     ]
    }
   ],
   "source": [
    "def get_letter_grade(x):\n",
    "    if x >= 88 or x >= 100:\n",
    "        print('A')\n",
    "    elif x >= 80:\n",
    "        print('B')\n",
    "    elif x >= 67:\n",
    "        print('C')\n",
    "    elif x >= 60:\n",
    "        print('D')\n",
    "    else:\n",
    "        print('F')\n",
    "# Our test cases:\n",
    "get_letter_grade(40)\n",
    "get_letter_grade(60)\n",
    "get_letter_grade(68)\n",
    "get_letter_grade(80)\n",
    "get_letter_grade(90)"
   ]
  },
  {
   "cell_type": "markdown",
   "id": "efb5884c",
   "metadata": {},
   "source": [
    "### 9. Define a function named remove_vowels that accepts a string and returns a string with all the vowels removed."
   ]
  },
  {
   "cell_type": "code",
   "execution_count": 39,
   "id": "f3cc8843",
   "metadata": {},
   "outputs": [
    {
     "data": {
      "text/plain": [
       "'dt scnc s s cl'"
      ]
     },
     "execution_count": 39,
     "metadata": {},
     "output_type": "execute_result"
    }
   ],
   "source": [
    "def remove_vowels(x):\n",
    "    x = x.replace('a', \"\")\n",
    "    x = x.replace('e', \"\")\n",
    "    x = x.replace('i', \"\")\n",
    "    x = x.replace('o', \"\")\n",
    "    return x.replace('u', \"\")\n",
    "    \n",
    "# Our test case:\n",
    "remove_vowels('data science is sou cooooool')"
   ]
  },
  {
   "cell_type": "markdown",
   "id": "eb85e22a",
   "metadata": {},
   "source": [
    "### 10. Define a function named normalize_name. It should accept a string and return a valid python identifier, that is:\n",
    "* anything that is not a valid python identifier should be removed\n",
    "* leading and trailing whitespace should be removed\n",
    "* everything should be lowercase\n",
    "* spaces should be replaced with underscores\n",
    "#### for example:\n",
    "  * Name will become name\n",
    "  * First Name will become first_name\n",
    "  * % Completed will become completed"
   ]
  },
  {
   "cell_type": "code",
   "execution_count": 41,
   "id": "ed101206",
   "metadata": {},
   "outputs": [
    {
     "data": {
      "text/plain": [
       "'jo_ann'"
      ]
     },
     "execution_count": 41,
     "metadata": {},
     "output_type": "execute_result"
    }
   ],
   "source": [
    "def normalize_name(x):\n",
    "\n",
    "    x = x.lower().replace(\"*\", \"\")\n",
    "    x = x.replace(\"%\", \"\")\n",
    "    x = x.replace(\"0\", \"\")\n",
    "    x = x.replace(\"@\", \"\")\n",
    "    x = x.replace(\"$\", \"\")\n",
    "    x = x.replace(\"^\", \"\")\n",
    "    x = x.replace(\"&\", \"\")\n",
    "    x = x.replace(\"()\", \"\")\n",
    "    x = x.replace(\"0\", \"\")\n",
    "    x = x.replace(\" \", \"_\")\n",
    "    x = x.replace(\"1\", \"\")\n",
    "    x = x.replace(\"2\", \"\")\n",
    "    x = x.replace(\"3\", \"\")\n",
    "    x = x.replace(\"4\", \"\")\n",
    "    x = x.replace(\"5\", \"\")\n",
    "    x = x.replace(\"6\", \"\")\n",
    "    x = x.replace(\"7\", \"\")\n",
    "    x = x.replace(\"8\", \"\")\n",
    "    return x.replace(\"9\", \"\")\n",
    " \n",
    "# our test case:   \n",
    "normalize_name(\"Jo ann*%019&()\")"
   ]
  },
  {
   "cell_type": "markdown",
   "id": "f1dedbae",
   "metadata": {},
   "source": [
    "### 11. Write a function named cumulative_sum that accepts a list of numbers and returns a list that is the cumulative sum of the numbers in the list."
   ]
  },
  {
   "cell_type": "code",
   "execution_count": 6,
   "id": "274b55fc",
   "metadata": {},
   "outputs": [
    {
     "name": "stdout",
     "output_type": "stream",
     "text": [
      "New list: [10, 30, 60, 100, 150]\n"
     ]
    }
   ],
   "source": [
    "def cumulative_sum(x):\n",
    "# variable \"new\" has an empty list as it will be appended\n",
    "   new = []\n",
    "# variable \"cumsum\" set to 0 to later be assigned the result to the argument (x)\n",
    "   cumsum = 0\n",
    "   for x in x:\n",
    "    # adds value (x) and the variable and assigns the result (cumsum) to that argument (x)\n",
    "      cumsum += x\n",
    "    # appends to \"new\", the list:\n",
    "      new.append(cumsum)\n",
    "    # returns the list that was appended with the cumulative sum of the list\n",
    "   return new\n",
    "# Our test case:\n",
    "lists = [10, 20, 30, 40, 50]\n",
    "print (\"New list:\",cumulative_sum(lists))"
   ]
  },
  {
   "cell_type": "code",
   "execution_count": null,
   "id": "229909f1",
   "metadata": {},
   "outputs": [],
   "source": []
  }
 ],
 "metadata": {
  "kernelspec": {
   "display_name": "Python 3.8.8 64-bit ('base': conda)",
   "language": "python",
   "name": "python388jvsc74a57bd0b64057e63add2b45b1ffc7eab9b09c8889b419c878e2fdf0d08f837f0fc857a7"
  },
  "language_info": {
   "codemirror_mode": {
    "name": "ipython",
    "version": 3
   },
   "file_extension": ".py",
   "mimetype": "text/x-python",
   "name": "python",
   "nbconvert_exporter": "python",
   "pygments_lexer": "ipython3",
   "version": "3.8.8"
  }
 },
 "nbformat": 4,
 "nbformat_minor": 5
}
