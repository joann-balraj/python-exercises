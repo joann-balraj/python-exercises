{
 "cells": [
  {
   "cell_type": "code",
   "execution_count": 75,
   "id": "04f39f54",
   "metadata": {},
   "outputs": [
    {
     "name": "stdout",
     "output_type": "stream",
     "text": [
      "A\n"
     ]
    }
   ],
   "source": [
    "from functions_exercises import get_letter_grade as glg\n",
    "glg(90)"
   ]
  },
  {
   "cell_type": "markdown",
   "id": "b24b284b",
   "metadata": {},
   "source": [
    "######  2. Read about and use the itertools module from the python standard library to help you solve the following problems:\n",
    "\n",
    "a. How many different ways can you combine the letters from \"abc\" with the numbers 1, 2, and 3?\n",
    "0\n",
    "\n",
    "b. How many different combinations are there of 2 letters from \"abcd\"?\n",
    "6\n",
    "\n",
    "c. How many different permutations are there of 2 letters from \"abcd\"?      \n",
    "12"
   ]
  },
  {
   "cell_type": "code",
   "execution_count": 5,
   "id": "e184d145",
   "metadata": {},
   "outputs": [],
   "source": [
    "import json\n",
    "# The variable 'profiles' is set to the profiles.json file \n",
    "profiles = json.load(open('profiles.json')) "
   ]
  },
  {
   "cell_type": "markdown",
   "id": "d969811a",
   "metadata": {},
   "source": [
    " ## Your code should produce a list of dictionaries. Using this data, write some code that calculates and outputs the following information:\n",
    "\n",
    "Total number of users - 19\n",
    "\n",
    "Number of active users - 9\n",
    "\n",
    "Number of inactive users - 10\n",
    "\n",
    "Grand total of balances for all users - 52667.02\n",
    "\n",
    "Average balance per user - 2771.95\n",
    "\n",
    "User with the lowest balance - 1214.1\n",
    "\n",
    "User with the highest balance - 3919.64\n",
    "\n",
    "Most common favorite fruit - strawberry\n",
    "\n",
    "Least most common favorite fruit - apple\n",
    "\n",
    "Total number of unread messages for all users - 210"
   ]
  },
  {
   "cell_type": "code",
   "execution_count": 102,
   "id": "cc78f4e2",
   "metadata": {
    "scrolled": true
   },
   "outputs": [
    {
     "name": "stdout",
     "output_type": "stream",
     "text": [
      "19\n"
     ]
    }
   ],
   "source": [
    "# Our ttl_users function uses the len() function to print out the len, or amount, of profiles there are. This is also how many users there are.\n",
    "def ttl_users():\n",
    "    print(len(profiles))\n",
    "ttl_users()"
   ]
  },
  {
   "cell_type": "code",
   "execution_count": 85,
   "id": "9f0bbcf3",
   "metadata": {},
   "outputs": [
    {
     "name": "stdout",
     "output_type": "stream",
     "text": [
      "9\n",
      "10\n"
     ]
    }
   ],
   "source": [
    "is_active = [pf2_active, pf5_active, pf9_active, pf10_active, pf11_active, pf13_active, pf14_active, pf17_active, pf18_active]\n",
    "not_active = [pf0_active, pf1_active, pf3_active, pf4_active, pf6_active, pf7_active, pf8_active, pf12_active, pf15_active, pf16_active]\n",
    "print(len(is_active))\n",
    "print(len(not_active))\n",
    "\n"
   ]
  },
  {
   "cell_type": "code",
   "execution_count": 88,
   "id": "76c1d780",
   "metadata": {},
   "outputs": [
    {
     "data": {
      "text/plain": [
       "['$2,097.02',\n",
       " '$3,654.02',\n",
       " '$1,536.02',\n",
       " '$3,919.64',\n",
       " '$3,681.39',\n",
       " '$1,694.42',\n",
       " '$1,214.10',\n",
       " '$2,930.31',\n",
       " '$1,944.15',\n",
       " '$2,839.22',\n",
       " '$2,467.31',\n",
       " '$3,304.99',\n",
       " '$3,844.42',\n",
       " '$3,594.99',\n",
       " '$2,940.24',\n",
       " '$3,062.41',\n",
       " '$3,067.82',\n",
       " '$2,646.76',\n",
       " '$2,227.79']"
      ]
     },
     "execution_count": 88,
     "metadata": {},
     "output_type": "execute_result"
    }
   ],
   "source": [
    "balances = [profile['balance'] for profile in profiles]\n",
    "balances\n"
   ]
  },
  {
   "cell_type": "code",
   "execution_count": 69,
   "id": "35abbf24",
   "metadata": {},
   "outputs": [
    {
     "data": {
      "text/plain": [
       "['$2,097.02',\n",
       " '$3,654.02',\n",
       " '$1,536.02',\n",
       " '$3,919.64',\n",
       " '$3,681.39',\n",
       " '$1,694.42',\n",
       " '$1,214.10',\n",
       " '$2,930.31',\n",
       " '$1,944.15',\n",
       " '$2,839.22',\n",
       " '$2,467.31',\n",
       " '$3,304.99',\n",
       " '$3,844.42',\n",
       " '$3,594.99',\n",
       " '$2,940.24',\n",
       " '$3,062.41',\n",
       " '$3,067.82',\n",
       " '$2,646.76',\n",
       " '$2,227.79']"
      ]
     },
     "execution_count": 69,
     "metadata": {},
     "output_type": "execute_result"
    }
   ],
   "source": [
    "pf0_balance = profiles[0]['balance']\n",
    "pf1_balance = profiles[1]['balance']\n",
    "pf2_balance = profiles[2]['balance']\n",
    "pf3_balance = profiles[3]['balance']\n",
    "pf4_balance = profiles[4]['balance']\n",
    "pf5_balance = profiles[5]['balance']\n",
    "pf6_balance = profiles[6]['balance']\n",
    "pf7_balance = profiles[7]['balance']\n",
    "pf8_balance = profiles[8]['balance']\n",
    "pf9_balance = profiles[9]['balance']\n",
    "pf10_balance = profiles[10]['balance']\n",
    "pf11_balance = profiles[11]['balance']\n",
    "pf12_balance = profiles[12]['balance']\n",
    "pf13_balance = profiles[13]['balance']\n",
    "pf14_balance = profiles[14]['balance']\n",
    "pf15_balance = profiles[15]['balance']\n",
    "pf16_balance = profiles[16]['balance']\n",
    "pf17_balance = profiles[17]['balance']\n",
    "pf18_balance = profiles[18]['balance']\n",
    "balances = [pf0_balance, pf1_balance, pf2_balance, pf3_balance, pf4_balance, pf5_balance, pf6_balance, pf7_balance, pf8_balance, pf9_balance, pf10_balance, pf11_balance, pf12_balance, pf13_balance, pf14_balance, pf15_balance, pf16_balance, pf17_balance, pf18_balance]\n",
    "balances"
   ]
  },
  {
   "cell_type": "code",
   "execution_count": 70,
   "id": "8b0e66e3",
   "metadata": {},
   "outputs": [
    {
     "name": "stdout",
     "output_type": "stream",
     "text": [
      "52667.02\n"
     ]
    }
   ],
   "source": [
    "balances = [2097.02, 3654.02,\n",
    " 1536.02,\n",
    " 3919.64,\n",
    " 3681.39,\n",
    " 1694.42,\n",
    " 1214.10,\n",
    " 2930.31,\n",
    " 1944.15,\n",
    " 2839.22,\n",
    " 2467.31,\n",
    " 3304.99,\n",
    " 3844.42,\n",
    " 3594.99,\n",
    " 2940.24,\n",
    " 3062.41,\n",
    " 3067.82,\n",
    " 2646.76,\n",
    " 2227.79]\n",
    "ttl_balance = print(sum(balances))\n",
    "ttl_balance"
   ]
  },
  {
   "cell_type": "code",
   "execution_count": 108,
   "id": "1343fc14",
   "metadata": {},
   "outputs": [
    {
     "data": {
      "text/plain": [
       "2771.95"
      ]
     },
     "execution_count": 108,
     "metadata": {},
     "output_type": "execute_result"
    }
   ],
   "source": [
    "average = round(52667.02/19, 2)\n",
    "average"
   ]
  },
  {
   "cell_type": "code",
   "execution_count": 109,
   "id": "e0f1e5ff",
   "metadata": {},
   "outputs": [
    {
     "data": {
      "text/plain": [
       "'$1,214.10'"
      ]
     },
     "execution_count": 109,
     "metadata": {},
     "output_type": "execute_result"
    }
   ],
   "source": [
    "min_balance = min(balances)\n",
    "min_balance"
   ]
  },
  {
   "cell_type": "code",
   "execution_count": 110,
   "id": "2ce39a93",
   "metadata": {},
   "outputs": [
    {
     "data": {
      "text/plain": [
       "'$3,919.64'"
      ]
     },
     "execution_count": 110,
     "metadata": {},
     "output_type": "execute_result"
    }
   ],
   "source": [
    "max_balance = max(balances)\n",
    "max_balance"
   ]
  },
  {
   "cell_type": "code",
   "execution_count": 111,
   "id": "d2eb6a37",
   "metadata": {},
   "outputs": [
    {
     "data": {
      "text/plain": [
       "['strawberry',\n",
       " 'apple',\n",
       " 'banana',\n",
       " 'banana',\n",
       " 'apple',\n",
       " 'apple',\n",
       " 'banana',\n",
       " 'strawberry',\n",
       " 'strawberry',\n",
       " 'banana',\n",
       " 'strawberry',\n",
       " 'strawberry',\n",
       " 'apple',\n",
       " 'strawberry',\n",
       " 'strawberry',\n",
       " 'banana',\n",
       " 'strawberry',\n",
       " 'banana',\n",
       " 'strawberry']"
      ]
     },
     "execution_count": 111,
     "metadata": {},
     "output_type": "execute_result"
    }
   ],
   "source": [
    "fruits = []\n",
    "for profile in profiles:\n",
    "    fruits.append(profile[\"favoriteFruit\"])\n",
    "fruits"
   ]
  },
  {
   "cell_type": "code",
   "execution_count": 114,
   "id": "a028f047",
   "metadata": {},
   "outputs": [
    {
     "data": {
      "text/plain": [
       "'strawberry'"
      ]
     },
     "execution_count": 114,
     "metadata": {},
     "output_type": "execute_result"
    }
   ],
   "source": [
    "most_common_ff = max(fruits, key = fruits.count)\n",
    "most_common_ff"
   ]
  },
  {
   "cell_type": "code",
   "execution_count": 115,
   "id": "f0a58aab",
   "metadata": {},
   "outputs": [
    {
     "data": {
      "text/plain": [
       "'apple'"
      ]
     },
     "execution_count": 115,
     "metadata": {},
     "output_type": "execute_result"
    }
   ],
   "source": [
    "least_common_ff = min(fruits, key = fruits.count)\n",
    "least_common_ff"
   ]
  },
  {
   "cell_type": "code",
   "execution_count": 73,
   "id": "e1f258fa",
   "metadata": {},
   "outputs": [
    {
     "data": {
      "text/plain": [
       "['Hello, Hebert Estes! You have 4 unread messages.',\n",
       " 'Hello, Allison Wynn! You have 19 unread messages.',\n",
       " 'Hello, Jacobs Floyd! You have 5 unread messages.',\n",
       " 'Hello, Fay Hammond! You have 10 unread messages.',\n",
       " 'Hello, Chasity Marsh! You have 9 unread messages.',\n",
       " 'Hello, Camacho Cortez! You have 19 unread messages.',\n",
       " 'Hello, Avery Flynn! You have 13 unread messages.',\n",
       " 'Hello, Michael Cash! You have 17 unread messages.',\n",
       " 'Hello, Madeleine Bray! You have 2 unread messages.',\n",
       " 'Hello, Corine French! You have 18 unread messages.',\n",
       " 'Hello, Trudy Cummings! You have 2 unread messages.',\n",
       " 'Hello, Peggy Mayer! You have 13 unread messages.',\n",
       " 'Hello, Chan Hurley! You have 7 unread messages.',\n",
       " 'Hello, Diaz Pena! You have 13 unread messages.',\n",
       " 'Hello, Heath Castaneda! You have 12 unread messages.',\n",
       " 'Hello, Greer Blankenship! You have 7 unread messages.',\n",
       " 'Hello, Coffey Hayes! You have 19 unread messages.',\n",
       " 'Hello, Leanne Hurst! You have 5 unread messages.',\n",
       " 'Hello, Ewing Larson! You have 16 unread messages.']"
      ]
     },
     "execution_count": 73,
     "metadata": {},
     "output_type": "execute_result"
    }
   ],
   "source": [
    "pf0_unread = profiles[0]['greeting']\n",
    "pf1_unread = profiles[1]['greeting']\n",
    "pf2_unread = profiles[2]['greeting']\n",
    "pf3_unread = profiles[3]['greeting']\n",
    "pf4_unread = profiles[4]['greeting']\n",
    "pf5_unread = profiles[5]['greeting']\n",
    "pf6_unread = profiles[6]['greeting']\n",
    "pf7_unread = profiles[7]['greeting']\n",
    "pf8_unread = profiles[8]['greeting']\n",
    "pf9_unread = profiles[9]['greeting']\n",
    "pf10_unread = profiles[10]['greeting']\n",
    "pf11_unread = profiles[11]['greeting']\n",
    "pf12_unread = profiles[12]['greeting']\n",
    "pf13_unread = profiles[13]['greeting']\n",
    "pf14_unread = profiles[14]['greeting']\n",
    "pf15_unread = profiles[15]['greeting']\n",
    "pf16_unread = profiles[16]['greeting']\n",
    "pf17_unread = profiles[17]['greeting']\n",
    "pf18_unread = profiles[18]['greeting']\n",
    "greeting = [pf0_unread, pf1_unread, pf2_unread, pf3_unread, pf4_unread, pf5_unread, pf6_unread, pf7_unread, pf8_unread, pf9_unread, pf10_unread, pf11_unread, pf12_unread, pf13_unread, pf14_unread, pf15_unread, pf16_unread, pf17_unread, pf18_unread]\n",
    "greeting\n",
    "\n",
    "\n",
    "\n"
   ]
  },
  {
   "cell_type": "code",
   "execution_count": 74,
   "id": "6a004c95",
   "metadata": {},
   "outputs": [
    {
     "data": {
      "text/plain": [
       "210"
      ]
     },
     "execution_count": 74,
     "metadata": {},
     "output_type": "execute_result"
    }
   ],
   "source": [
    "ttl_unread = 4 + 19 + 5 + 10 + 9 + 19 + 13 + 17 + 2 + 18 + 2 + 13 + 12 + 7 + 13 + 7 + 19 + 5 + 16\n",
    "ttl_unread"
   ]
  }
 ],
 "metadata": {
  "kernelspec": {
   "display_name": "Python 3.8.8 64-bit ('base': conda)",
   "language": "python",
   "name": "python388jvsc74a57bd0b64057e63add2b45b1ffc7eab9b09c8889b419c878e2fdf0d08f837f0fc857a7"
  },
  "language_info": {
   "codemirror_mode": {
    "name": "ipython",
    "version": 3
   },
   "file_extension": ".py",
   "mimetype": "text/x-python",
   "name": "python",
   "nbconvert_exporter": "python",
   "pygments_lexer": "ipython3",
   "version": "3.8.8"
  }
 },
 "nbformat": 4,
 "nbformat_minor": 5
}
